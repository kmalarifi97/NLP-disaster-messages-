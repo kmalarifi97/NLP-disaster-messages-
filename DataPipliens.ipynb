{
 "cells": [
  {
   "cell_type": "code",
   "execution_count": 1,
   "metadata": {},
   "outputs": [],
   "source": [
    "import sys\n",
    "import pandas as pd\n",
    "from sqlalchemy import create_engine\n"
   ]
  },
  {
   "cell_type": "code",
   "execution_count": 9,
   "metadata": {},
   "outputs": [],
   "source": [
    "def load_data(messages_filepath, categories_filepath):\n",
    "    '''\n",
    "    Input:\n",
    "        messages_filepath: File path of messages data\n",
    "        categories_filepath: File path of categories data\n",
    "    Output:\n",
    "        df: Merged dataset from messages and categories\n",
    "    '''\n",
    "    # Read message data\n",
    "    messages=pd.read_csv(messages_filepath)\n",
    "    # Read categories data\n",
    "    categories=pd.read_csv(categories_filepath)\n",
    "    ####\n",
    "    #msd.merge(ctd, left_on='id', right_on='categories')\n",
    "    df=pd.merge(messages,categories)\n",
    "    # Merge messages and categories\n",
    "    \n",
    "    return df\n",
    "\n"
   ]
  },
  {
   "cell_type": "code",
   "execution_count": 10,
   "metadata": {},
   "outputs": [],
   "source": [
    "df=load_data('messages.csv','categories.csv')\n"
   ]
  },
  {
   "cell_type": "code",
   "execution_count": 12,
   "metadata": {},
   "outputs": [],
   "source": [
    "def clean_data(df):\n",
    "    '''\n",
    "    Input:\n",
    "        df: Merged dataset from messages and categories\n",
    "    Output:\n",
    "        df: Cleaned dataset\n",
    "    '''\n",
    "    df[\"categories\"]= df[\"categories\"].str.split(\";\")\n",
    "    # Create a dataframe of the 36 individual category columns\n",
    "    tempDataf=pd.DataFrame()\n",
    "    # appendig categories column will create one column in the dataf dataframe \n",
    "    tempDataf=tempDataf.append(df[\"categories\"][0])\n",
    "    #df3 will contain the column names by substracting the last tow digits.\n",
    "    # Select the first row of the categories dataframe\n",
    "     # Use this row to extract a list of new column names for categories\n",
    "    columnsName=tempDataf[0].str[:-2]\n",
    "    #  reshaping the dataf will conver the 36 rows to 36 column \n",
    "    # which allows me to use dataf.loc method \n",
    "    tempDataf=pd.DataFrame(tempDataf.values.reshape(1,-1))\n",
    "    i=0\n",
    "    for i in df.index:\n",
    "        tempDataf.loc[i]=df[\"categories\"][i]\n",
    "    \n",
    "    # Convert category values to just numbers 0 or 1\n",
    "        # set each value to be the last character of the string\n",
    "        # convert column from string to numeric\n",
    "     # Drop the original categories column\n",
    "    \n",
    "    # Concatenate the original dataframe with the new categories dataframe\n",
    "    i=0\n",
    "\n",
    "    for i in tempDataf.columns:\n",
    "        # convert column from string to numeric\n",
    "        tempDataf[i]= tempDataf[i].str[-1]\n",
    "        tempDataf[i]=  pd.to_numeric(tempDataf[i])\n",
    "        # Rename the categories columns\n",
    "        tempDataf=tempDataf.rename(columns={i:columnsName[i]})\n",
    "        \n",
    "    \n",
    "    dfs=[df,tempDataf]\n",
    "    df1=pd.concat(dfs,axis=1)\n",
    "    df1=df1.drop(columns=[\"categories\"])\n",
    "    df1=df1.drop('original', axis=1)\n",
    "    df1=df1.drop_duplicates()\n",
    "    \n",
    "    \n",
    "    return df1\n",
    "    \n",
    "    \n",
    "   "
   ]
  },
  {
   "cell_type": "code",
   "execution_count": 38,
   "metadata": {},
   "outputs": [],
   "source": [
    "def save_data(df, database_filename):\n",
    "    '''\n",
    "    Save df into sqlite db\n",
    "    Input:\n",
    "        df: cleaned dataset\n",
    "        database_filename: database name, e.g. DisasterMessages.db\n",
    "    Output: \n",
    "        A SQLite database\n",
    "    '''\n",
    "    \n",
    "    engine = create_engine('sqlite:///'+str(database_filename))\n",
    "    df.to_sql('df', engine, index=False)\n"
   ]
  },
  {
   "cell_type": "code",
   "execution_count": 39,
   "metadata": {},
   "outputs": [],
   "source": [
    "save_data(df,'DisasterResponse.db')"
   ]
  },
  {
   "cell_type": "code",
   "execution_count": 40,
   "metadata": {},
   "outputs": [
    {
     "name": "stdout",
     "output_type": "stream",
     "text": [
      "Please provide the filepaths of the messages and categories datasets as the first and second argument respectively, as well as the filepath of the database to save the cleaned data to as the third argument. \n",
      "\n",
      "Example: python process_data.py disaster_messages.csv disaster_categories.csv DisasterResponse.db\n"
     ]
    }
   ],
   "source": [
    "def main():\n",
    "    if len(sys.argv) == 4:\n",
    "\n",
    "        messages_filepath, categories_filepath, database_filepath = sys.argv[1:]\n",
    "\n",
    "        print('Loading data...\\n    MESSAGES: {}\\n    CATEGORIES: {}'\n",
    "              .format(messages_filepath, categories_filepath))\n",
    "        df = load_data(messages_filepath, categories_filepath)\n",
    "\n",
    "        print('Cleaning data...')\n",
    "        df = clean_data(df)\n",
    "        \n",
    "        print('Saving data...\\n    DATABASE: {}'.format(database_filepath))\n",
    "        save_data(df, database_filepath)\n",
    "        \n",
    "        print('Cleaned data saved to database!')\n",
    "    \n",
    "    else:\n",
    "        print('Please provide the filepaths of the messages and categories '\\\n",
    "              'datasets as the first and second argument respectively, as '\\\n",
    "              'well as the filepath of the database to save the cleaned data '\\\n",
    "              'to as the third argument. \\n\\nExample: python process_data.py '\\\n",
    "              'disaster_messages.csv disaster_categories.csv '\\\n",
    "              'DisasterResponse.db')\n",
    "\n",
    "\n",
    "if __name__ == '__main__':\n",
    "    main()"
   ]
  },
  {
   "cell_type": "code",
   "execution_count": null,
   "metadata": {},
   "outputs": [],
   "source": []
  }
 ],
 "metadata": {
  "kernelspec": {
   "display_name": "Python 3",
   "language": "python",
   "name": "python3"
  },
  "language_info": {
   "codemirror_mode": {
    "name": "ipython",
    "version": 3
   },
   "file_extension": ".py",
   "mimetype": "text/x-python",
   "name": "python",
   "nbconvert_exporter": "python",
   "pygments_lexer": "ipython3",
   "version": "3.6.7"
  }
 },
 "nbformat": 4,
 "nbformat_minor": 2
}
